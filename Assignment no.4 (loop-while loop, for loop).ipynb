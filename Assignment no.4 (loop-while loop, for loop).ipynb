{
 "cells": [
  {
   "cell_type": "markdown",
   "id": "7bc0a50a",
   "metadata": {},
   "source": [
    "# LOOP(while loop,for loop) \n",
    "    Assignment no.4"
   ]
  },
  {
   "cell_type": "raw",
   "id": "6a72d537",
   "metadata": {},
   "source": [
    "Q. 1)   print numbers from 1 to 5 using whilw loop."
   ]
  },
  {
   "cell_type": "code",
   "execution_count": 3,
   "id": "2e964504",
   "metadata": {},
   "outputs": [
    {
     "name": "stdout",
     "output_type": "stream",
     "text": [
      "1\n",
      "2\n",
      "3\n",
      "4\n",
      "5\n"
     ]
    }
   ],
   "source": [
    "# initialize the number variable\n",
    "number = 1\n",
    "while number <=5:       #  loop until the number is greter than 5 \n",
    "    print(number)         # print the number\n",
    "    number = number + 1"
   ]
  },
  {
   "cell_type": "raw",
   "id": "7fe5105f",
   "metadata": {},
   "source": [
    "Q.2 ) calculate the sum of numbers from 1 to 10 using while loop."
   ]
  },
  {
   "cell_type": "code",
   "execution_count": 5,
   "id": "8fb09bed",
   "metadata": {
    "scrolled": true
   },
   "outputs": [
    {
     "name": "stdout",
     "output_type": "stream",
     "text": [
      "the sum of numbers from 1 to 10 1\n",
      "the sum of numbers from 1 to 10 3\n",
      "the sum of numbers from 1 to 10 6\n",
      "the sum of numbers from 1 to 10 10\n",
      "the sum of numbers from 1 to 10 15\n",
      "the sum of numbers from 1 to 10 21\n",
      "the sum of numbers from 1 to 10 28\n",
      "the sum of numbers from 1 to 10 36\n",
      "the sum of numbers from 1 to 10 45\n",
      "the sum of numbers from 1 to 10 55\n"
     ]
    }
   ],
   "source": [
    "# initialize the sum variable\n",
    "sum = 0 \n",
    "number =1\n",
    "while number <=10:\n",
    "    sum = sum+number\n",
    "    number = number + 1\n",
    "    print(\"the sum of numbers from 1 to 10\", sum)"
   ]
  },
  {
   "cell_type": "raw",
   "id": "a82aeb76",
   "metadata": {},
   "source": [
    "Q.3 ) calculate the factorial of number using a for loop."
   ]
  },
  {
   "cell_type": "code",
   "execution_count": 8,
   "id": "9cdebb81",
   "metadata": {},
   "outputs": [
    {
     "name": "stdout",
     "output_type": "stream",
     "text": [
      "enter a number5\n",
      "the factorial of 5 is 120\n"
     ]
    }
   ],
   "source": [
    "n = int(input(\"enter a number\"))\n",
    "result = 1\n",
    "if n<0:\n",
    "    print(\"factorial does not exist for negative number\")\n",
    "elif n==0:\n",
    "    print(\"the factorial of 0 is 1\")\n",
    "else:\n",
    "    for i in range(1,n+1):\n",
    "        result = result*i\n",
    "    print(\"the factorial of\", n, \"is\", result)"
   ]
  },
  {
   "cell_type": "raw",
   "id": "f7d38ba0",
   "metadata": {},
   "source": [
    "Q.4) count the number of vowels in a string using a for loop."
   ]
  },
  {
   "cell_type": "code",
   "execution_count": 25,
   "id": "5bc3ec2c",
   "metadata": {},
   "outputs": [
    {
     "name": "stdout",
     "output_type": "stream",
     "text": [
      "Number of vowels: 7\n"
     ]
    }
   ],
   "source": [
    "string = \"hello, this is priyanka\"\n",
    "count = 0\n",
    "vowels = \"aeiouAEIOU\"\n",
    "\n",
    "for char in string:\n",
    "    if char in vowels:\n",
    "        count += 1\n",
    "\n",
    "print(\"Number of vowels:\", count)"
   ]
  },
  {
   "cell_type": "raw",
   "id": "d7b6cb4e",
   "metadata": {},
   "source": [
    "Q.5 ) print a pattern using nested loop"
   ]
  },
  {
   "cell_type": "markdown",
   "id": "3b6456a0",
   "metadata": {},
   "source": [
    "ex.1 print square pattern of star"
   ]
  },
  {
   "cell_type": "code",
   "execution_count": 34,
   "id": "8cd942f6",
   "metadata": {},
   "outputs": [
    {
     "name": "stdout",
     "output_type": "stream",
     "text": [
      " *   *   *   *   *  \n",
      " *   *   *   *   *  \n",
      " *   *   *   *   *  \n",
      " *   *   *   *   *  \n",
      " *   *   *   *   *  \n"
     ]
    }
   ],
   "source": [
    "n = 5 \n",
    "for i in range(n):\n",
    "    for j in range(n):\n",
    "        print(\" * \", end=\" \")\n",
    "    print()"
   ]
  },
  {
   "cell_type": "markdown",
   "id": "6f11d7e5",
   "metadata": {},
   "source": [
    "ex.2 print right triangle pattern of numbers"
   ]
  },
  {
   "cell_type": "code",
   "execution_count": 42,
   "id": "a78e84c2",
   "metadata": {},
   "outputs": [
    {
     "name": "stdout",
     "output_type": "stream",
     "text": [
      "1 \n",
      "2 2 \n",
      "3 3 3 \n",
      "4 4 4 4 \n",
      "5 5 5 5 5 \n"
     ]
    }
   ],
   "source": [
    "n = 5\n",
    "for i in range(1,n+1):\n",
    "    for j in range(1,i+1):\n",
    "        print(i, end=\" \")\n",
    "    print()"
   ]
  },
  {
   "cell_type": "markdown",
   "id": "7f780f8c",
   "metadata": {},
   "source": [
    "ex.3 print dimond pattern of letters"
   ]
  },
  {
   "cell_type": "code",
   "execution_count": 71,
   "id": "982f2677",
   "metadata": {},
   "outputs": [
    {
     "ename": "SyntaxError",
     "evalue": "invalid syntax (1088191511.py, line 10)",
     "output_type": "error",
     "traceback": [
      "\u001b[1;36m  Cell \u001b[1;32mIn[71], line 10\u001b[1;36m\u001b[0m\n\u001b[1;33m    print()n: Upper triangle\u001b[0m\n\u001b[1;37m           ^\u001b[0m\n\u001b[1;31mSyntaxError\u001b[0m\u001b[1;31m:\u001b[0m invalid syntax\n"
     ]
    }
   ],
   "source": [
    "\n",
    "n = 5\n",
    "\n",
    "# First patter\n",
    "# Second pattern: Lower triangle\n",
    "for i in range(n - 1):\n",
    "    for j in range(i + 1):\n",
    "        print(\" \", end=\"\")\n",
    "    for k in range(n - i - 1):\n",
    "        print(chr(65 + k), end=\"\")\n",
    "    print()n: Upper triangle\n",
    "for i in range(n):\n",
    "    for j in range(n - i - 1):\n",
    "        print(\" \", end=\"\")\n",
    "    for k in range(i + 1):\n",
    "        print(chr(65 + k), end=\"\")\n",
    "    print()\n"
   ]
  },
  {
   "cell_type": "raw",
   "id": "199cf22d",
   "metadata": {},
   "source": [
    "Q.6 generate a multiplication table using nested loop"
   ]
  },
  {
   "cell_type": "code",
   "execution_count": 66,
   "id": "4fd52811",
   "metadata": {},
   "outputs": [
    {
     "name": "stdout",
     "output_type": "stream",
     "text": [
      "   1   2   3   4   5   6   7   8   9  10\n",
      "   2   4   6   8  10  12  14  16  18  20\n",
      "   3   6   9  12  15  18  21  24  27  30\n",
      "   4   8  12  16  20  24  28  32  36  40\n",
      "   5  10  15  20  25  30  35  40  45  50\n",
      "   6  12  18  24  30  36  42  48  54  60\n",
      "   7  14  21  28  35  42  49  56  63  70\n",
      "   8  16  24  32  40  48  56  64  72  80\n",
      "   9  18  27  36  45  54  63  72  81  90\n",
      "  10  20  30  40  50  60  70  80  90 100\n"
     ]
    }
   ],
   "source": [
    " n = 10 \n",
    "for i in range(1,n+1):\n",
    "    for j in range(1,n+1):\n",
    "        product=i*j\n",
    "        print(f\"{product:4}\", end=\"\")\n",
    "    print()\n",
    "    \n"
   ]
  },
  {
   "cell_type": "raw",
   "id": "aac13e5b",
   "metadata": {},
   "source": [
    "dimond pattern"
   ]
  },
  {
   "cell_type": "code",
   "execution_count": 67,
   "id": "76574405",
   "metadata": {},
   "outputs": [
    {
     "name": "stdout",
     "output_type": "stream",
     "text": [
      "    A\n",
      "   AB\n",
      "  ABC\n",
      " ABCD\n",
      "ABCDE\n",
      " ABCD\n",
      "  ABC\n",
      "   AB\n",
      "    A\n"
     ]
    }
   ],
   "source": [
    "\n",
    "n = 5\n",
    "\n",
    "# First patter\n",
    "# Second pattern: Lower triangle\n",
    "for i in range(n - 1):\n",
    "    for j in range(i + 1):\n",
    "        print(\" \", end=\"\")\n",
    "    for k in range(n - i - 1):\n",
    "        print(chr(65 + k), end=\"\")\n",
    "    print()n: Upper triangle\n",
    "for i in range(n):\n",
    "    for j in range(n - i - 1):\n",
    "        print(\" \", end=\"\")\n",
    "    for k in range(i + 1):\n",
    "        print(chr(65 + k), end=\"\")\n",
    "    print()\n"
   ]
  },
  {
   "cell_type": "code",
   "execution_count": null,
   "id": "cf3594de",
   "metadata": {},
   "outputs": [],
   "source": []
  }
 ],
 "metadata": {
  "kernelspec": {
   "display_name": "Python 3 (ipykernel)",
   "language": "python",
   "name": "python3"
  },
  "language_info": {
   "codemirror_mode": {
    "name": "ipython",
    "version": 3
   },
   "file_extension": ".py",
   "mimetype": "text/x-python",
   "name": "python",
   "nbconvert_exporter": "python",
   "pygments_lexer": "ipython3",
   "version": "3.11.5"
  }
 },
 "nbformat": 4,
 "nbformat_minor": 5
}
